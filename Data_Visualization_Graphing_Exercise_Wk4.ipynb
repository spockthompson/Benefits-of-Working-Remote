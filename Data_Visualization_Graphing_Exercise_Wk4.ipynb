{
  "nbformat": 4,
  "nbformat_minor": 0,
  "metadata": {
    "colab": {
      "provenance": [],
      "collapsed_sections": [],
      "mount_file_id": "1hCY5JdCV22UTE4qy21wr9Z5xix3vaC-q",
      "authorship_tag": "ABX9TyMi37vQDEo47pEE4lzw1+M0",
      "include_colab_link": true
    },
    "kernelspec": {
      "name": "python3",
      "display_name": "Python 3"
    },
    "language_info": {
      "name": "python"
    }
  },
  "cells": [
    {
      "cell_type": "markdown",
      "metadata": {
        "id": "view-in-github",
        "colab_type": "text"
      },
      "source": [
        "<a href=\"https://colab.research.google.com/github/spockthompson/Benefits-of-Working-Remote/blob/main/Data_Visualization_Graphing_Exercise_Wk4.ipynb\" target=\"_parent\"><img src=\"https://colab.research.google.com/assets/colab-badge.svg\" alt=\"Open In Colab\"/></a>"
      ]
    },
    {
      "cell_type": "markdown",
      "source": [
        "#Data Visualization Exercise\n",
        "\n",
        "- Solution By: Scotty Thomason\n",
        "- 02 Nov 2022"
      ],
      "metadata": {
        "id": "zrNLNiwx51tt"
      }
    },
    {
      "cell_type": "markdown",
      "source": [
        "#Instructions\n",
        "[Makeover Monday](https://www.makeovermonday.co.uk/) offers a weekly challenge to re-create or improve data visualizations. Your task is to choose one of the data visualizations to re-create or improve!\n",
        "\n",
        "To do this:\n",
        "\n",
        "1.  Choose a data set from the [Data Sets list](https://www.makeovermonday.co.uk/data/data-sets-2020/). You can choose a recent data set or one from a previous year - as long as it interests you!\n",
        "2.  Download the data that you chose.\n",
        "3.  Use Python to create a visually appealing, informative visualization using the data you selected.\n",
        "\n",
        "You also need to put your work for this assignment on GitHub, so everyone can see the awesome visualization you created!\n",
        "\n",
        "To do this:\n",
        "\n",
        "1.  Create a new [GitHub](https://github.com/) repository with an informative name for your visualization or data. (Note: [here](https://www.wikihow.com/Create-a-Repository-on-GitHub) are instructions on how to do this if you are unsure - make sure to check the box marked \"Initialize this repository with a README.\")\n",
        "2.  Add your code to the GitHub repo you created. You can do this in Google Colab by selecting File > \"Save a Copy In GitHub\"\n",
        "3.  Edit the README to create an informative overview of the exercise that explains the purpose of the task/visualization, the data, and what the visualization you made shows/tells you. You may even want to include a static image of your final visualization in the README as well! (Note: README's are markdown files. [Here](https://www.markdownguide.org/cheat-sheet) is a cheatsheet of markdown syntax.) Try to make this as informative and professional as possible, as this is the first thing people will see when they come to your GitHub repo!\n",
        "\n",
        "Once you are done, submit a link to your GitHub repo to turn in this assignment.\n",
        "\n",
        "- The data set I have selected: https://data.world/makeovermonday/2020w52"
      ],
      "metadata": {
        "id": "tgaOKdpH74p8"
      }
    },
    {
      "cell_type": "markdown",
      "source": [
        "#Solution"
      ],
      "metadata": {
        "id": "Q-kSH2Zy8M1l"
      }
    },
    {
      "cell_type": "code",
      "execution_count": 1,
      "metadata": {
        "id": "EU4JPQullFUx"
      },
      "outputs": [],
      "source": [
        "import pandas as pd\n",
        "import numpy as np\n",
        "import matplotlib.pyplot as plt\n",
        "import seaborn as sns"
      ]
    },
    {
      "cell_type": "code",
      "source": [
        "df = pd.read_excel('/content/Global import of cocoa beans.xlsx')\n",
        "\n",
        "df.info()\n",
        "df.head()"
      ],
      "metadata": {
        "colab": {
          "base_uri": "https://localhost:8080/",
          "height": 380
        },
        "id": "O_d4Gezq598c",
        "outputId": "812a3e3e-b7c3-4f51-d249-8a5f153580b7"
      },
      "execution_count": 2,
      "outputs": [
        {
          "output_type": "stream",
          "name": "stdout",
          "text": [
            "<class 'pandas.core.frame.DataFrame'>\n",
            "RangeIndex: 15 entries, 0 to 14\n",
            "Data columns (total 3 columns):\n",
            " #   Column            Non-Null Count  Dtype  \n",
            "---  ------            --------------  -----  \n",
            " 0   Region            15 non-null     object \n",
            " 1   Year              15 non-null     float64\n",
            " 2   Import in tonnes  15 non-null     float64\n",
            "dtypes: float64(2), object(1)\n",
            "memory usage: 488.0+ bytes\n"
          ]
        },
        {
          "output_type": "execute_result",
          "data": {
            "text/plain": [
              "           Region    Year  Import in tonnes\n",
              "0  Asia & Oceania  2015.0          565000.0\n",
              "1  Asia & Oceania  2016.0          592000.0\n",
              "2  Asia & Oceania  2017.0          866000.0\n",
              "3  Asia & Oceania  2018.0          927000.0\n",
              "4  Asia & Oceania  2019.0          924000.0"
            ],
            "text/html": [
              "\n",
              "  <div id=\"df-9166674f-2fdf-4831-8801-c212f522abb3\">\n",
              "    <div class=\"colab-df-container\">\n",
              "      <div>\n",
              "<style scoped>\n",
              "    .dataframe tbody tr th:only-of-type {\n",
              "        vertical-align: middle;\n",
              "    }\n",
              "\n",
              "    .dataframe tbody tr th {\n",
              "        vertical-align: top;\n",
              "    }\n",
              "\n",
              "    .dataframe thead th {\n",
              "        text-align: right;\n",
              "    }\n",
              "</style>\n",
              "<table border=\"1\" class=\"dataframe\">\n",
              "  <thead>\n",
              "    <tr style=\"text-align: right;\">\n",
              "      <th></th>\n",
              "      <th>Region</th>\n",
              "      <th>Year</th>\n",
              "      <th>Import in tonnes</th>\n",
              "    </tr>\n",
              "  </thead>\n",
              "  <tbody>\n",
              "    <tr>\n",
              "      <th>0</th>\n",
              "      <td>Asia &amp; Oceania</td>\n",
              "      <td>2015.0</td>\n",
              "      <td>565000.0</td>\n",
              "    </tr>\n",
              "    <tr>\n",
              "      <th>1</th>\n",
              "      <td>Asia &amp; Oceania</td>\n",
              "      <td>2016.0</td>\n",
              "      <td>592000.0</td>\n",
              "    </tr>\n",
              "    <tr>\n",
              "      <th>2</th>\n",
              "      <td>Asia &amp; Oceania</td>\n",
              "      <td>2017.0</td>\n",
              "      <td>866000.0</td>\n",
              "    </tr>\n",
              "    <tr>\n",
              "      <th>3</th>\n",
              "      <td>Asia &amp; Oceania</td>\n",
              "      <td>2018.0</td>\n",
              "      <td>927000.0</td>\n",
              "    </tr>\n",
              "    <tr>\n",
              "      <th>4</th>\n",
              "      <td>Asia &amp; Oceania</td>\n",
              "      <td>2019.0</td>\n",
              "      <td>924000.0</td>\n",
              "    </tr>\n",
              "  </tbody>\n",
              "</table>\n",
              "</div>\n",
              "      <button class=\"colab-df-convert\" onclick=\"convertToInteractive('df-9166674f-2fdf-4831-8801-c212f522abb3')\"\n",
              "              title=\"Convert this dataframe to an interactive table.\"\n",
              "              style=\"display:none;\">\n",
              "        \n",
              "  <svg xmlns=\"http://www.w3.org/2000/svg\" height=\"24px\"viewBox=\"0 0 24 24\"\n",
              "       width=\"24px\">\n",
              "    <path d=\"M0 0h24v24H0V0z\" fill=\"none\"/>\n",
              "    <path d=\"M18.56 5.44l.94 2.06.94-2.06 2.06-.94-2.06-.94-.94-2.06-.94 2.06-2.06.94zm-11 1L8.5 8.5l.94-2.06 2.06-.94-2.06-.94L8.5 2.5l-.94 2.06-2.06.94zm10 10l.94 2.06.94-2.06 2.06-.94-2.06-.94-.94-2.06-.94 2.06-2.06.94z\"/><path d=\"M17.41 7.96l-1.37-1.37c-.4-.4-.92-.59-1.43-.59-.52 0-1.04.2-1.43.59L10.3 9.45l-7.72 7.72c-.78.78-.78 2.05 0 2.83L4 21.41c.39.39.9.59 1.41.59.51 0 1.02-.2 1.41-.59l7.78-7.78 2.81-2.81c.8-.78.8-2.07 0-2.86zM5.41 20L4 18.59l7.72-7.72 1.47 1.35L5.41 20z\"/>\n",
              "  </svg>\n",
              "      </button>\n",
              "      \n",
              "  <style>\n",
              "    .colab-df-container {\n",
              "      display:flex;\n",
              "      flex-wrap:wrap;\n",
              "      gap: 12px;\n",
              "    }\n",
              "\n",
              "    .colab-df-convert {\n",
              "      background-color: #E8F0FE;\n",
              "      border: none;\n",
              "      border-radius: 50%;\n",
              "      cursor: pointer;\n",
              "      display: none;\n",
              "      fill: #1967D2;\n",
              "      height: 32px;\n",
              "      padding: 0 0 0 0;\n",
              "      width: 32px;\n",
              "    }\n",
              "\n",
              "    .colab-df-convert:hover {\n",
              "      background-color: #E2EBFA;\n",
              "      box-shadow: 0px 1px 2px rgba(60, 64, 67, 0.3), 0px 1px 3px 1px rgba(60, 64, 67, 0.15);\n",
              "      fill: #174EA6;\n",
              "    }\n",
              "\n",
              "    [theme=dark] .colab-df-convert {\n",
              "      background-color: #3B4455;\n",
              "      fill: #D2E3FC;\n",
              "    }\n",
              "\n",
              "    [theme=dark] .colab-df-convert:hover {\n",
              "      background-color: #434B5C;\n",
              "      box-shadow: 0px 1px 3px 1px rgba(0, 0, 0, 0.15);\n",
              "      filter: drop-shadow(0px 1px 2px rgba(0, 0, 0, 0.3));\n",
              "      fill: #FFFFFF;\n",
              "    }\n",
              "  </style>\n",
              "\n",
              "      <script>\n",
              "        const buttonEl =\n",
              "          document.querySelector('#df-9166674f-2fdf-4831-8801-c212f522abb3 button.colab-df-convert');\n",
              "        buttonEl.style.display =\n",
              "          google.colab.kernel.accessAllowed ? 'block' : 'none';\n",
              "\n",
              "        async function convertToInteractive(key) {\n",
              "          const element = document.querySelector('#df-9166674f-2fdf-4831-8801-c212f522abb3');\n",
              "          const dataTable =\n",
              "            await google.colab.kernel.invokeFunction('convertToInteractive',\n",
              "                                                     [key], {});\n",
              "          if (!dataTable) return;\n",
              "\n",
              "          const docLinkHtml = 'Like what you see? Visit the ' +\n",
              "            '<a target=\"_blank\" href=https://colab.research.google.com/notebooks/data_table.ipynb>data table notebook</a>'\n",
              "            + ' to learn more about interactive tables.';\n",
              "          element.innerHTML = '';\n",
              "          dataTable['output_type'] = 'display_data';\n",
              "          await google.colab.output.renderOutput(dataTable, element);\n",
              "          const docLink = document.createElement('div');\n",
              "          docLink.innerHTML = docLinkHtml;\n",
              "          element.appendChild(docLink);\n",
              "        }\n",
              "      </script>\n",
              "    </div>\n",
              "  </div>\n",
              "  "
            ]
          },
          "metadata": {},
          "execution_count": 2
        }
      ]
    },
    {
      "cell_type": "code",
      "source": [
        "reg_import = df.groupby('Region')['Import in tonnes'].mean()\n",
        "reg_import"
      ],
      "metadata": {
        "id": "svS1NNVQCJfu",
        "colab": {
          "base_uri": "https://localhost:8080/"
        },
        "outputId": "cbb492df-cd2c-403c-de43-ccb514e882d1"
      },
      "execution_count": 3,
      "outputs": [
        {
          "output_type": "execute_result",
          "data": {
            "text/plain": [
              "Region\n",
              "Americas           599800.0\n",
              "Asia & Oceania     774800.0\n",
              "Europe            2342800.0\n",
              "Name: Import in tonnes, dtype: float64"
            ]
          },
          "metadata": {},
          "execution_count": 3
        }
      ]
    },
    {
      "cell_type": "code",
      "source": [
        "plt.style.use('seaborn-poster')\n",
        "sns.barplot(data = df, x = 'Region', y = 'Import in tonnes', hue = 'Year')\n",
        "plt.title('Global Imports of Cocoa Beans per Region')\n",
        "plt.legend(bbox_to_anchor=(1,1));"
      ],
      "metadata": {
        "colab": {
          "base_uri": "https://localhost:8080/",
          "height": 582
        },
        "id": "S5LlpO8NYEkt",
        "outputId": "37a5458f-3301-4177-907b-9210e3918ab2"
      },
      "execution_count": 4,
      "outputs": [
        {
          "output_type": "display_data",
          "data": {
            "text/plain": [
              "<Figure size 921.6x633.6 with 1 Axes>"
            ],
            "image/png": "[encoded data removed]"
          },
          "metadata": {
            "needs_background": "light"
          }
        }
      ]
    }
  ]
}